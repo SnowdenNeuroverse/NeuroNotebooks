{
 "cells": [
  {
   "cell_type": "markdown",
   "metadata": {},
   "source": [
    "## Import the NeuroJulia library"
   ]
  },
  {
   "cell_type": "code",
   "execution_count": null,
   "metadata": {},
   "outputs": [],
   "source": [
    "using NeuroJulia"
   ]
  },
  {
   "cell_type": "markdown",
   "metadata": {},
   "source": [
    "## Specify the columns in the new table\n",
    " - Column datatypes can be \"Int\",\"String(length)\",\"Decimal(precision,decimal_places)\"\n",
    " - Column types can be \"Key\",\"Value\""
   ]
  },
  {
   "cell_type": "code",
   "execution_count": null,
   "metadata": {},
   "outputs": [],
   "source": [
    "columns=NeuroData.DestinationTableDefinitionColumn[\n",
    "    NeuroData.DestinationTableDefinitionColumn(name=\"Id\",datatype=\"Int\",columntype=\"Key\",isrequired=true),\n",
    "    NeuroData.DestinationTableDefinitionColumn(name=\"Code\",datatype=\"String(50)\",columntype=\"Value\",isrequired=true),\n",
    "    NeuroData.DestinationTableDefinitionColumn(name=\"Name\",datatype=\"String(200)\",columntype=\"Value\",isrequired=false),\n",
    "    NeuroData.DestinationTableDefinitionColumn(name=\"Value\",datatype=\"Decimal(10,2)\",columntype=\"Value\",isrequired=false)\n",
    "]"
   ]
  },
  {
   "cell_type": "markdown",
   "metadata": {},
   "source": [
    "## Specify the table name and attach the columns"
   ]
  },
  {
   "cell_type": "code",
   "execution_count": null,
   "metadata": {},
   "outputs": [],
   "source": [
    "table_def=NeuroData.DestinationTableDefinition(allowdatachanges=false,columns=columns,\n",
    "        name=\"LeeTest1\")"
   ]
  },
  {
   "cell_type": "markdown",
   "metadata": {},
   "source": [
    "## Create the table"
   ]
  },
  {
   "cell_type": "code",
   "execution_count": null,
   "metadata": {},
   "outputs": [],
   "source": [
    "NeuroData.CreateDestinationTableDefinition(table_def)"
   ]
  }
 ],
 "metadata": {
  "kernelspec": {
   "display_name": "Julia 0.5.2",
   "language": "julia",
   "name": "julia-0.5"
  },
  "language_info": {
   "file_extension": ".jl",
   "mimetype": "application/julia",
   "name": "julia",
   "version": "0.5.2"
  }
 },
 "nbformat": 4,
 "nbformat_minor": 2
}
