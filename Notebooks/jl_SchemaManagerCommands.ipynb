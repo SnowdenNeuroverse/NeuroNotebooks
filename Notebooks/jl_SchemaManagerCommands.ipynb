{
 "cells": [
  {
   "cell_type": "markdown",
   "metadata": {},
   "source": [
    "# Import the NeuroJulia library"
   ]
  },
  {
   "cell_type": "code",
   "execution_count": null,
   "metadata": {},
   "outputs": [],
   "source": [
    "using NeuroJulia"
   ]
  },
  {
   "cell_type": "markdown",
   "metadata": {},
   "source": [
    "# Specify the columns in the new table\n",
    " - Column datatypes can be \"Int\",\"String(length)\",\"Decimal(precision,decimal_places)\",\"BigInt\",\"DateTime\",\"Boolean\",\"UniqueIdentifier\"\n",
    " - Column types can be \"Key\",\"Value\",\"ForeignKey(table_name,column_name)\",\"TimeStampKey\""
   ]
  },
  {
   "cell_type": "code",
   "execution_count": null,
   "metadata": {},
   "outputs": [],
   "source": [
    "columns=NeuroData.DestinationTableDefinitionColumn[\n",
    "    NeuroData.DestinationTableDefinitionColumn(;name=\"Id\",datatype=\"UniqueIdentifier\",columntype=\"Key\",isrequired=true),\n",
    "    NeuroData.DestinationTableDefinitionColumn(;name=\"String\",datatype=\"String(50)\",columntype=\"Value\",isrequired=true),\n",
    "    NeuroData.DestinationTableDefinitionColumn(;name=\"Decimal\",datatype=\"Decimal(15,3)\",columntype=\"Value\",isrequired=false),\n",
    "    NeuroData.DestinationTableDefinitionColumn(;name=\"BigInt\",datatype=\"BigInt\",columntype=\"Value\",isrequired=false),\n",
    "    NeuroData.DestinationTableDefinitionColumn(;name=\"DateTime\",datatype=\"DateTime\",columntype=\"TimeStampKey\",isrequired=false),\n",
    "    NeuroData.DestinationTableDefinitionColumn(;name=\"Boolean\",datatype=\"Boolean\",columntype=\"Value\",isrequired=false),\n",
    "    NeuroData.DestinationTableDefinitionColumn(;name=\"Int\",datatype=\"Int\",columntype=\"Value\",isrequired=false)\n",
    "]"
   ]
  },
  {
   "cell_type": "markdown",
   "metadata": {},
   "source": [
    "# Specify the table name and attach the columns"
   ]
  },
  {
   "cell_type": "code",
   "execution_count": null,
   "metadata": {},
   "outputs": [],
   "source": [
    "table_name=\"LeeTest7\"\n",
    "table_def=NeuroData.DestinationTableDefinition(;allowdatachanges=false,columns=columns,\n",
    "        name=table_name)"
   ]
  },
  {
   "cell_type": "markdown",
   "metadata": {},
   "source": [
    "# Create the table"
   ]
  },
  {
   "cell_type": "code",
   "execution_count": null,
   "metadata": {},
   "outputs": [],
   "source": [
    "NeuroData.create_destination_table(table_def)"
   ]
  },
  {
   "cell_type": "markdown",
   "metadata": {},
   "source": [
    "# Create table with foreign key"
   ]
  },
  {
   "cell_type": "code",
   "execution_count": null,
   "metadata": {},
   "outputs": [],
   "source": [
    "columns1=NeuroData.DestinationTableDefinitionColumn[\n",
    "    NeuroData.DestinationTableDefinitionColumn(;name=\"Key\",datatype=\"Int\",columntype=\"Key\",isrequired=true),\n",
    "    NeuroData.DestinationTableDefinitionColumn(;name=\"Id\",datatype=\"UniqueIdentifier\",columntype=\"ForeignKey(LeeTest4,Id)\",isrequired=true)\n",
    "]\n",
    "table_name1=table_name * \"-Foreign\"\n",
    "table_def1=NeuroData.DestinationTableDefinition(;allowdatachanges=false,columns=columns1,\n",
    "        name=table_name1)\n",
    "NeuroData.create_destination_table(table_def1)"
   ]
  },
  {
   "cell_type": "markdown",
   "metadata": {},
   "source": [
    "# Get definition of existing table"
   ]
  },
  {
   "cell_type": "code",
   "execution_count": null,
   "metadata": {},
   "outputs": [],
   "source": [
    "table_def2=NeuroData.get_table_definition(;tablename=table_name)"
   ]
  },
  {
   "cell_type": "markdown",
   "metadata": {},
   "source": [
    "# Save definition to file\n",
    "This lets the definition be shared with another tenant"
   ]
  },
  {
   "cell_type": "code",
   "execution_count": null,
   "metadata": {},
   "outputs": [],
   "source": [
    "NeuroData.save_table_definition(;tabledef=table_def2,filename=table_name*\".json\")"
   ]
  },
  {
   "cell_type": "markdown",
   "metadata": {},
   "source": [
    "# Load a table definition from file"
   ]
  },
  {
   "cell_type": "code",
   "execution_count": null,
   "metadata": {},
   "outputs": [],
   "source": [
    "table_def3=NeuroData.load_table_definition(;filename=table_name*\".json\")"
   ]
  },
  {
   "cell_type": "markdown",
   "metadata": {},
   "source": [
    "# Create a new table with the definition loaded from the file"
   ]
  },
  {
   "cell_type": "code",
   "execution_count": null,
   "metadata": {},
   "outputs": [],
   "source": [
    "table_def3.DestinationTableName=table_name * \"-Copied\"\n",
    "NeuroData.create_destination_table(table_def3)"
   ]
  }
 ],
 "metadata": {
  "kernelspec": {
   "display_name": "Julia 0.5.2",
   "language": "julia",
   "name": "julia-0.5"
  },
  "language_info": {
   "file_extension": ".jl",
   "mimetype": "application/julia",
   "name": "julia",
   "version": "0.5.2"
  }
 },
 "nbformat": 4,
 "nbformat_minor": 2
}
