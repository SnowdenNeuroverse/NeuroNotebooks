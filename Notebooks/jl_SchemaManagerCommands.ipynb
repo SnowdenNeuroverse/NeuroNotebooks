{
 "cells": [
  {
   "cell_type": "markdown",
   "metadata": {},
   "source": [
    "# Import the NeuroJulia library"
   ]
  },
  {
   "cell_type": "code",
   "execution_count": null,
   "metadata": {},
   "outputs": [],
   "source": [
    "using NeuroJulia"
   ]
  },
  {
   "cell_type": "markdown",
   "metadata": {},
   "source": [
    "# Specify the columns in the new table\n",
    " - Column datatypes can be \"Int\",\"String(length)\",\"Decimal(precision,decimal_places)\",\"BigInt\",\"DateTime\",\"Boolean\",\"UniqueIdentifier\"\n",
    " - Column types can be \"Key\",\"Value\",\"ForeignKey(table_name,column_name)\",\"TimeStampKey\""
   ]
  },
  {
   "cell_type": "code",
   "execution_count": null,
   "metadata": {},
   "outputs": [],
   "source": [
    "columns=NeuroData.DestinationTableDefinitionColumn[\n",
    "    NeuroData.DestinationTableDefinitionColumn(name=\"Id\",datatype=\"UniqueIdentifier\",columntype=\"Key\",isrequired=true),\n",
    "    NeuroData.DestinationTableDefinitionColumn(name=\"String\",datatype=\"String(50)\",columntype=\"Value\",isrequired=true),\n",
    "    NeuroData.DestinationTableDefinitionColumn(name=\"Decimal\",datatype=\"Decimal(15,3)\",columntype=\"Value\",isrequired=false),\n",
    "    NeuroData.DestinationTableDefinitionColumn(name=\"BigInt\",datatype=\"BigInt\",columntype=\"Value\",isrequired=false),\n",
    "    NeuroData.DestinationTableDefinitionColumn(name=\"DateTime\",datatype=\"DateTime\",columntype=\"TimeStampKey\",isrequired=false),\n",
    "    NeuroData.DestinationTableDefinitionColumn(name=\"Boolean\",datatype=\"Boolean\",columntype=\"Value\",isrequired=false),\n",
    "    NeuroData.DestinationTableDefinitionColumn(name=\"Int\",datatype=\"Int\",columntype=\"Value\",isrequired=false)\n",
    "]"
   ]
  },
  {
   "cell_type": "markdown",
   "metadata": {},
   "source": [
    "# Specify the table name and attach the columns"
   ]
  },
  {
   "cell_type": "code",
   "execution_count": null,
   "metadata": {},
   "outputs": [],
   "source": [
    "store_name=\"Default\"\n",
    "\n",
    "table_name=\"Table1\"\n",
    "\n",
    "table_def=NeuroData.DestinationTableDefinition(allowdatachanges=false,columns=columns,\n",
    "        name=table_name,schematype=\"Processed\")"
   ]
  },
  {
   "cell_type": "markdown",
   "metadata": {},
   "source": [
    "# Create the table"
   ]
  },
  {
   "cell_type": "code",
   "execution_count": null,
   "metadata": {},
   "outputs": [],
   "source": [
    "NeuroData.create_destination_table(storename=store_name,tabledefinition=table_def)"
   ]
  },
  {
   "cell_type": "markdown",
   "metadata": {},
   "source": [
    "# Create table with foreign key"
   ]
  },
  {
   "cell_type": "code",
   "execution_count": null,
   "metadata": {},
   "outputs": [],
   "source": [
    "columns1=NeuroData.DestinationTableDefinitionColumn[\n",
    "    NeuroData.DestinationTableDefinitionColumn(name=\"Key\",datatype=\"Int\",columntype=\"Key\",isrequired=true),\n",
    "    NeuroData.DestinationTableDefinitionColumn(name=\"Id\",datatype=\"UniqueIdentifier\",columntype=\"ForeignKey($table_name,Id)\",isrequired=true)\n",
    "]\n",
    "\n",
    "table_name1=table_name * \"-Foreign\"\n",
    "\n",
    "table_def1=NeuroData.DestinationTableDefinition(allowdatachanges=false,columns=columns1,\n",
    "        name=table_name1,schematype=\"Processed\")\n",
    "\n",
    "NeuroData.create_destination_table(storename=store_name,tabledefinition=table_def1)"
   ]
  },
  {
   "cell_type": "markdown",
   "metadata": {},
   "source": [
    "# Create table with indexes"
   ]
  },
  {
   "cell_type": "code",
   "execution_count": null,
   "metadata": {},
   "outputs": [],
   "source": [
    "indexes=NeuroData.DestinationTableDefinitionIndex[\n",
    "    NeuroData.DestinationTableDefinitionIndex(indexname=\"Index1\",indexcolumnnames=[\"Id\",\"Int\"]),\n",
    "    NeuroData.DestinationTableDefinitionIndex(indexname=\"Index2\",indexcolumnnames=[\"BigInt\",\"DateTime\"])]\n",
    "\n",
    "table_name2=table_name * \"-Indexes\"\n",
    "\n",
    "table_def2=NeuroData.DestinationTableDefinition(allowdatachanges=false,columns=columns,\n",
    "        name=table_name2,tableindexes=indexes,schematype=\"Processed\")\n",
    "\n",
    "NeuroData.create_destination_table(storename=store_name,tabledefinition=table_def2)"
   ]
  },
  {
   "cell_type": "markdown",
   "metadata": {},
   "source": [
    "# Add indexes to table"
   ]
  },
  {
   "cell_type": "code",
   "execution_count": null,
   "metadata": {},
   "outputs": [],
   "source": [
    "indexes=NeuroData.DestinationTableDefinitionIndex[\n",
    "    NeuroData.DestinationTableDefinitionIndex(indexname=\"Index3\",indexcolumnnames=[\"DateTime\",\"Int\"]),\n",
    "    NeuroData.DestinationTableDefinitionIndex(indexname=\"Index4\",indexcolumnnames=[\"Int\",\"DateTime\"])]\n",
    "\n",
    "NeuroData.add_destination_table_indexes(storename=store_name,tablename=table_name2,tableindexes=indexes)"
   ]
  },
  {
   "cell_type": "markdown",
   "metadata": {},
   "source": [
    "# Add mapping to table\n",
    "Create a mapping that \n",
    " - excludes the \"DateTime\" field \n",
    " - maps the \"id\" field from the source into the \"ID\" field in the table\n",
    " - maps the \"int\" field from the source into the \"Int\" field in the table"
   ]
  },
  {
   "cell_type": "code",
   "execution_count": null,
   "metadata": {},
   "outputs": [],
   "source": [
    "NeuroData.create_table_mapping(storename=store_name,tablename=table_name2,mappingname=table_name2*\"4\",notmapped=[\"DateTime\"],source_dest_name_pairs=[(\"id\",\"Id\"),(\"int\",\"Int\")])"
   ]
  },
  {
   "cell_type": "markdown",
   "metadata": {},
   "source": [
    "# Get definition of existing table"
   ]
  },
  {
   "cell_type": "code",
   "execution_count": null,
   "metadata": {},
   "outputs": [],
   "source": [
    "table_def2=NeuroData.get_table_definition(storename=store_name,tablename=table_name2)"
   ]
  },
  {
   "cell_type": "markdown",
   "metadata": {},
   "source": [
    "# Save definition to file\n",
    "This lets the definition be shared with another tenant"
   ]
  },
  {
   "cell_type": "code",
   "execution_count": null,
   "metadata": {},
   "outputs": [],
   "source": [
    "NeuroData.save_table_definition(tabledefinition=table_def2,filename=table_name2*\".json\")"
   ]
  },
  {
   "cell_type": "markdown",
   "metadata": {},
   "source": [
    "# Load a table definition from file"
   ]
  },
  {
   "cell_type": "code",
   "execution_count": null,
   "metadata": {},
   "outputs": [],
   "source": [
    "table_def3=NeuroData.load_table_definition(filename=table_name2*\".json\")"
   ]
  },
  {
   "cell_type": "markdown",
   "metadata": {},
   "source": [
    "# Create a new table with the definition loaded from the file"
   ]
  },
  {
   "cell_type": "code",
   "execution_count": null,
   "metadata": {},
   "outputs": [],
   "source": [
    "table_def3.DestinationTableName=table_name2 * \"-Copied\"\n",
    "\n",
    "NeuroData.create_destination_table(storename=store_name,tabledefinition=table_def3)"
   ]
  },
  {
   "cell_type": "code",
   "execution_count": null,
   "metadata": {},
   "outputs": [],
   "source": []
  }
 ],
 "metadata": {
  "kernelspec": {
   "display_name": "Julia 0.6.2",
   "language": "julia",
   "name": "julia-0.6"
  },
  "language_info": {
   "file_extension": ".jl",
   "mimetype": "application/julia",
   "name": "julia",
   "version": "0.6.2"
  }
 },
 "nbformat": 4,
 "nbformat_minor": 2
}
