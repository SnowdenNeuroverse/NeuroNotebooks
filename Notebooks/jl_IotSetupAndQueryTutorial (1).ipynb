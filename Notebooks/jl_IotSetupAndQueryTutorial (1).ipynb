{
 "cells": [
  {
   "cell_type": "markdown",
   "metadata": {},
   "source": [
    "# Iot Tutorial\n",
    "In this example we will go through setting up an Iot implementation from sending messages through to querying and graphing the information in Notebooks.\n",
    "<br><br>\n",
    "This example assumes that we are taking sensor reading from fridges and sending them through an endpoint into a database table in Neuro.\n",
    "This example will require you to use Endpoint Manager and Data Stream Manager as well. However we will create the Db table schema using the NeuroJulia library rather than Schema Manager."
   ]
  },
  {
   "cell_type": "code",
   "execution_count": null,
   "metadata": {},
   "outputs": [],
   "source": [
    "#load the required libraries\n",
    "using NeuroJulia\n",
    "using DataFrames\n",
    "using Plotly"
   ]
  },
  {
   "cell_type": "markdown",
   "metadata": {},
   "source": [
    "### Create the Db table\n",
    "\n",
    "#### Example data\n",
    "\n",
    "UnitId | DateTime | Tag | Value\n",
    "--- | --- | --- | ---\n",
    "23 | 2017-10-10 08:40:52 | H109 | 204.22"
   ]
  },
  {
   "cell_type": "code",
   "execution_count": null,
   "metadata": {},
   "outputs": [],
   "source": [
    "#Define the columns\n",
    "columns=NeuroData.DestinationTableDefinitionColumn[\n",
    "    NeuroData.DestinationTableDefinitionColumn(name=\"UnitId\",datatype=\"Int\",columntype=\"Value\",isrequired=true),\n",
    "    NeuroData.DestinationTableDefinitionColumn(name=\"DateTime\",datatype=\"String(50)\",columntype=\"Value\",isrequired=true),\n",
    "    NeuroData.DestinationTableDefinitionColumn(name=\"Tag\",datatype=\"String(200)\",columntype=\"Value\",isrequired=false),\n",
    "    NeuroData.DestinationTableDefinitionColumn(name=\"Value\",datatype=\"Decimal(20,5)\",columntype=\"Value\",isrequired=false)\n",
    "]\n",
    "\n",
    "#Define the table\n",
    "table_def=NeuroData.DestinationTableDefinition(allowdatachanges=false,columns=columns,name=\"FridgeData\")\n",
    "\n",
    "#Create the table\n",
    "NeuroData.CreateDestinationTableDefinition(table_def)"
   ]
  },
  {
   "cell_type": "markdown",
   "metadata": {},
   "source": [
    "### Setup Endpoint\n",
    "Go back to the Neuroverse browser tab and navigate to the Endpoint Manager screen. If you have an endpoint setup and are happy to send fridge data through it you can use it otherwise create a new endpoint.\n",
    "\n",
    "Once you have a endpoint setup you can add a device to it."
   ]
  },
  {
   "cell_type": "markdown",
   "metadata": {},
   "source": [
    "### Setup Data Stream \n",
    "Now you have a table in Schema Manager and an endpoint configured you can link the two with a data stream.\n",
    "\n",
    "Go back to the Neuroverse browser tab and navigate to the Data Stream Manager screen."
   ]
  },
  {
   "cell_type": "markdown",
   "metadata": {},
   "source": [
    "### Create a virtual fridge\n",
    "Configure the fridge to send messages in the correct format and to the write endpoint. We will create a virtual fridge by copy the code below into a new Julia Notebook and modfiying the parameters to match your endpoint and running the code.\n",
    "<br><br>\n",
    "```julia\n",
    "#endpoint parameters\n",
    "for d=1:100\n",
    "    #send data\n",
    "end\n",
    "```"
   ]
  },
  {
   "cell_type": "markdown",
   "metadata": {},
   "source": [
    "### Query data\n",
    "You now have data streaming from your fridges into your datatable. Below we will load the data into the Notebook and produce some graphs"
   ]
  },
  {
   "cell_type": "code",
   "execution_count": null,
   "metadata": {},
   "outputs": [],
   "source": [
    "# List unique unit ids\n",
    "q1=NeuroData.SqlQuery(select=\"UnitId,Tag,AVG(Value)\",tablename=\"FridgeData\",groupby=\"UnitId,Tag\")\n",
    "df1=NeuroDate.sql2df(sqlquery=query)\n",
    "unique(df1[:UnitId])"
   ]
  },
  {
   "cell_type": "code",
   "execution_count": null,
   "metadata": {},
   "outputs": [],
   "source": [
    "#List unique tags\n",
    "tags=unique(df1[:Tag])"
   ]
  },
  {
   "cell_type": "code",
   "execution_count": null,
   "metadata": {},
   "outputs": [],
   "source": [
    "#Plot averages of the fridges by tag\n",
    "data=PlotlyJS.GenericTrace{Dict{Symbol,Any}}[]\n",
    "for t=1:length(tags)\n",
    "    tmp_df=df1[df1[:Tag].==tags[t],:]\n",
    "    push!(data,scatter(x=tmp_df[:UnitId],y=tmp_df[:Value]))\n",
    "end\n",
    "\n",
    "plot(data)"
   ]
  }
 ],
 "metadata": {
  "kernelspec": {
   "display_name": "Julia 0.5.2",
   "language": "julia",
   "name": "julia-0.5"
  },
  "language_info": {
   "file_extension": ".jl",
   "mimetype": "application/julia",
   "name": "julia",
   "version": "0.5.2"
  }
 },
 "nbformat": 4,
 "nbformat_minor": 2
}
