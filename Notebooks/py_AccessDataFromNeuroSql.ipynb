{
 "cells": [
  {
   "cell_type": "markdown",
   "metadata": {},
   "source": [
    "# Access data from Neuroverse SQL data stores\n",
    "\n",
    "This notebook demonstrates the ability to access the data in a notebook.\n",
    "<br><br>\n",
    "Neuroverse organises it's sql data stores in Schema Manager. Schema Manager can be controlled through the UI or in a Notebook as shown in SchemaManagerCommands example notebook.\n",
    "<br><br>\n",
    "Data is ingested into the data stores using Data Stream Manager.\n",
    "<br><br>\n",
    "This data can be accessed either through Analysor (dashboards) or in Notebooks."
   ]
  },
  {
   "cell_type": "markdown",
   "metadata": {},
   "source": [
    "## Query objects\n",
    "#### sql_query()\n",
    "     - The query object uses the constructor sql_query(). The constructor takes the following named parameters: select, table_name, sub_query, alias, joins, where, group_by, having and order_by. Examples of are shown below\n",
    "#### sql_join()\n",
    "     - The join object uses the constructor sql_join(). The constructor takes the following named parameters: join_type, table_name, sub_query, alias and clause. Examples of are shown below"
   ]
  },
  {
   "cell_type": "markdown",
   "metadata": {},
   "source": [
    "## Query functions\n",
    "#### sql_to_df\n",
    "     - The function is executed as sql_to_df(). It takes the named parameter sql_query. The function executes a query and returns a dataframe. Examples are shown below\n",
    "#### sql_to_csv\n",
    "     - The function is executed as sql_to_csv(). It takes the named parameters: folder_path, file_name, sql_query. The function executes a query and returns a csv. Examples are shown below"
   ]
  },
  {
   "cell_type": "markdown",
   "metadata": {},
   "source": [
    "# Examples"
   ]
  },
  {
   "cell_type": "markdown",
   "metadata": {},
   "source": [
    "## Load libraries and initialise"
   ]
  },
  {
   "cell_type": "code",
   "execution_count": null,
   "metadata": {},
   "outputs": [],
   "source": [
    "from neuro_python import Neuro_Data\n",
    "nd=Neuro_Data()"
   ]
  },
  {
   "cell_type": "markdown",
   "metadata": {},
   "source": [
    "## Query and subquery examples\n",
    "\n",
    "Table1\n",
    "\n",
    "Id | Date | Tag | Value\n",
    "--- | --- | --- | ---\n",
    "1 | 2017-10-10 08:40:52 | 3 | 4.4\n",
    "1 | 2017-10-10 08:44:52 | 2 | 204.4\n",
    "2 | 2017-10-10 08:43:52 | 1 | 78.4\n",
    "3 | 2017-10-10 08:41:52 | 2 | 384.4"
   ]
  },
  {
   "cell_type": "code",
   "execution_count": null,
   "metadata": {},
   "outputs": [],
   "source": [
    "# select * from test where Id=1 order by Date\n",
    "query1=nd.sql_query(select=\"*\",table_name=\"table1\",where=\"Id=1\",order_by=\"Date\")\n",
    "#load into memory\n",
    "df1=nd.sql_to_df(sql_query=query1)\n",
    "#create csv in notebooks root folder\n",
    "nd.sql_to_csv(file_name=\"query1.csv\",sql_query=query1)\n",
    "#create csv in notebooks 00_NeuroTemplates folder\n",
    "nd.sql_to_csv(folder_path=\"/00_NeuroTemplates\",file_name=\"query1.csv\",sql_query=query1)\n",
    "\n",
    "# Subquery\n",
    "query2=nd.sql_query(select=\"Top 100 q1.Date,q1.Value\",sub_query=query1,alias=\"q1\")\n",
    "#load into memory\n",
    "df2=nd.sql_to_df(sql_query=query2)"
   ]
  },
  {
   "cell_type": "markdown",
   "metadata": {},
   "source": [
    "## Join example"
   ]
  },
  {
   "cell_type": "code",
   "execution_count": null,
   "metadata": {},
   "outputs": [],
   "source": [
    "#This query pivots row based data into columns based on Tag and Value fields\n",
    "query3=nd.sql_query(select=\"Id,Date,Value\",table_name=\"table1\",where=\"Tag=1\")\n",
    "query4=nd.sql_query(select=\"Id,Date,Value\",table_name=\"table1\",where=\"Tag=2\")\n",
    "join1=nd.sql_join(jointype=\"INNER\",sub_query=query4,alias=\"t2\",clause=\"t1.Id=t2.Id and t1.Date=t2.Date\")\n",
    "query5=nd.sql_query(select=\"Id,Date,Value\",table_name=\"table1\",where=\"Tag=3\")\n",
    "join2=nd.sql_join(jointype=\"INNER\",sub_query=query5,alias=\"t3\",clause=\"t1.Id=t3.Id and t1.Date=t3.Date\")\n",
    "query6=nd.sql_query(select=\"t1.Id,t1.Date,t1.Value As Tag1,t2.Value As Tag2,t3.Value As Tag3\",sub_query=query3,alias=\"t1\",joins=[join1,join2])\n",
    "#load into memory\n",
    "df3=nd.sql_to_df(sql_query=query6)"
   ]
  }
 ],
 "metadata": {
  "kernelspec": {
   "display_name": "Python 3",
   "language": "python",
   "name": "python3"
  },
  "language_info": {
   "codemirror_mode": {
    "name": "ipython",
    "version": 3
   },
   "file_extension": ".py",
   "mimetype": "text/x-python",
   "name": "python",
   "nbconvert_exporter": "python",
   "pygments_lexer": "ipython3",
   "version": "3.6.4"
  }
 },
 "nbformat": 4,
 "nbformat_minor": 2
}
