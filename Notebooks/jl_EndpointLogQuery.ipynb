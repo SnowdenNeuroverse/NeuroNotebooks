{
 "cells": [
  {
   "cell_type": "markdown",
   "metadata": {},
   "source": [
    "# Endpoint Log Query Notebook"
   ]
  },
  {
   "cell_type": "code",
   "execution_count": null,
   "metadata": {},
   "outputs": [],
   "source": [
    "using NeuroJulia"
   ]
  },
  {
   "cell_type": "markdown",
   "metadata": {},
   "source": [
    "## Enter query parameters"
   ]
  },
  {
   "cell_type": "code",
   "execution_count": null,
   "metadata": {},
   "outputs": [],
   "source": [
    "# Set these parameters to limit the log results required\n",
    "startDate = \"2017-01-03T01:50:59.144+08:00\" # use iso 8601 format....use +08:00 for AWST\n",
    "endDate = \"2018-05-04T01:50:59.144+08:00\"\n",
    "endpointName = \"EPRLQALEASK\""
   ]
  },
  {
   "cell_type": "markdown",
   "metadata": {},
   "source": [
    "## Run query"
   ]
  },
  {
   "cell_type": "code",
   "execution_count": null,
   "metadata": {},
   "outputs": [],
   "source": [
    "endpointLogEntries=queryendpointlog(endpointName,startDate,endDate)"
   ]
  },
  {
   "cell_type": "markdown",
   "metadata": {},
   "source": [
    "## Print query results summary\n",
    "maxDisplayRows limits the amount of rows printed out to stop the printout from being unruly"
   ]
  },
  {
   "cell_type": "code",
   "execution_count": null,
   "metadata": {},
   "outputs": [],
   "source": [
    "maxDisplayRows=200\n",
    "i = 1\n",
    "for item in endpointLogEntries\n",
    "    if i > maxDisplayRows\n",
    "        println(\"\"\"---------------------\n",
    "        !! There are more results... to see them refine your date range !!!\"\n",
    "        \"\"\")\n",
    "        break\n",
    "    end\n",
    "    \n",
    "    println(\"\"\"Index: $(string(i)),   Date Time: $(item[\"EntryDateTime\"]),   Data Pop Map Name: $(item[\"DataPopulationMappingName\"])   Source: $(item[\"DataSourceName\"]),   Message:$(item[\"Message\"]) \"\"\")\n",
    "    i+=1\n",
    "end"
   ]
  },
  {
   "cell_type": "markdown",
   "metadata": {},
   "source": [
    "## Print error message and stack trace for an individual log entry\n",
    "Set indexOfInterest to match the desired entry from the summary printout above"
   ]
  },
  {
   "cell_type": "code",
   "execution_count": null,
   "metadata": {},
   "outputs": [],
   "source": [
    "indexOfInterest = 1\n",
    "println(\"\"\"\n",
    "Message Contents:\n",
    "    $(endpointLogEntries[indexOfInterest][\"EndpointMessageContents\"])\n",
    "    \"\"\")\n",
    "\n",
    "println(\"\"\"\n",
    "Stack Trace:\n",
    "    $(endpointLogEntries[indexOfInterest][\"ExceptionStackTrace\"])\n",
    "    \"\"\")"
   ]
  },
  {
   "cell_type": "code",
   "execution_count": null,
   "metadata": {},
   "outputs": [],
   "source": []
  }
 ],
 "metadata": {
  "kernelspec": {
   "display_name": "Julia 0.6.2",
   "language": "julia",
   "name": "julia-0.6"
  },
  "language_info": {
   "file_extension": ".jl",
   "mimetype": "application/julia",
   "name": "julia",
   "version": "0.6.2"
  }
 },
 "nbformat": 4,
 "nbformat_minor": 2
}
