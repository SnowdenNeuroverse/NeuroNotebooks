{
 "cells": [
  {
   "cell_type": "markdown",
   "metadata": {},
   "source": [
    "# Access data from Neuroverse SQL data stores\n",
    "Neuroverse organises it's sql data stores in Schema Manager. Schema Manager can be controlled through the UI or in a Notebook as shown in SchemaManagerCommands example notebook.\n",
    "<br><br>\n",
    "Data is ingested into the data stores using Data Stream Manager.\n",
    "<br><br>\n",
    "This data can be accessed either through Analysor (dashboards) or in Notebooks.\n",
    "<br><br>\n",
    "This notebook demonstrates the ability to access the data in a notebook."
   ]
  },
  {
   "cell_type": "markdown",
   "metadata": {},
   "source": [
    "## Query objects\n",
    "#### NeuroData.SqlQuery\n",
    "     - The query object uses the constructor NeuroData.SqlQuery(). The constructor takes the following named parameters: select, tablename, subquery, alias, joins, where, groupby, having and orderby. Examples of are shown below\n",
    "#### NeuroData.SqlJoin\n",
    "     - The join object uses the constructor NeuroData.SqlJoin(). The constructor takes the following named parameters: jointype, tablename, subquery, alias and clause. Examples of are shown below"
   ]
  },
  {
   "cell_type": "markdown",
   "metadata": {},
   "source": [
    "## Query functions\n",
    "#### NeuroData.sql2df\n",
    "     - The function is executed as NeuroData.sql2df(). It takes the named parameter sqlquery. The function executes a query and returns a dataframe. Examples are shown below\n",
    "#### NeuroData.sql2csv\n",
    "     - The function is executed as NeuroData.sql2csv(). It takes the named parameters: folderpath, filename, sqlquery. The function executes a query and returns a csv. Examples are shown below"
   ]
  },
  {
   "cell_type": "markdown",
   "metadata": {},
   "source": [
    "## DataFrames\n",
    "Dataframes are a tabular in memory data structure. Notebooks is capable of displaying formatted versions of the Dataframes. Documentation for dataframes can be found at [Link](http://juliadata.github.io/DataFrames.jl/stable/)"
   ]
  },
  {
   "cell_type": "markdown",
   "metadata": {},
   "source": [
    "# Examples"
   ]
  },
  {
   "cell_type": "markdown",
   "metadata": {},
   "source": [
    "## Load library"
   ]
  },
  {
   "cell_type": "code",
   "execution_count": null,
   "metadata": {
    "scrolled": true
   },
   "outputs": [],
   "source": [
    "using NeuroJulia\n",
    "using DataFrames"
   ]
  },
  {
   "cell_type": "markdown",
   "metadata": {},
   "source": [
    "## Query and subquery examples\n",
    "\n",
    "Table1\n",
    "\n",
    "Id | Date | Tag | Value\n",
    "--- | --- | --- | ---\n",
    "1 | 2017-10-10 08:40:52 | 3 | 4.4\n",
    "1 | 2017-10-10 08:44:52 | 2 | 204.4\n",
    "2 | 2017-10-10 08:43:52 | 1 | 78.4\n",
    "3 | 2017-10-10 08:41:52 | 2 | 384.4"
   ]
  },
  {
   "cell_type": "code",
   "execution_count": null,
   "metadata": {},
   "outputs": [],
   "source": [
    "# select * from test where Id=1 order by Date\n",
    "query1=NeuroData.SqlQuery(select=\"*\",tablename=\"table1\",where=\"Id=1\",orderby=\"Date\")\n",
    "#load into memory\n",
    "df1=NeuroData.sql2df(sqlquery=query1)\n",
    "#create csv in notebooks root folder\n",
    "NeuroData.sql2csv(filename=\"query1.csv\",sqlquery=query1)\n",
    "#create csv in notebooks 00_NeuroTemplates folder\n",
    "NeuroData.sql2csv(folderpath=\"/00_NeuroTemplates\",filename=\"query1.csv\",sqlquery=query1)\n",
    "\n",
    "# Subquery\n",
    "query2=NeuroData.SqlQuery(select=\"Top 100 q1.Date,q1.Value\",subquery=query1,alias=\"q1\")\n",
    "#load into memory\n",
    "df2=NeuroData.sql2df(sqlquery=query2)"
   ]
  },
  {
   "cell_type": "markdown",
   "metadata": {},
   "source": [
    "## Join example"
   ]
  },
  {
   "cell_type": "code",
   "execution_count": null,
   "metadata": {},
   "outputs": [],
   "source": [
    "#This query pivots row based data into columns based on Tag and Value fields\n",
    "query3=NeuroData.SqlQuery(select=\"Id,Date,Value\",tablename=\"table1\",where=\"Tag=1\")\n",
    "query4=NeuroData.SqlQuery(select=\"Id,Date,Value\",tablename=\"table1\",where=\"Tag=2\")\n",
    "join1=NeuroData.SqlJoin(jointype=\"INNER\",subquery=query4,alias=\"t2\",clause=\"t1.Id=t2.Id and t1.Date=t2.Date\")\n",
    "query5=NeuroData.SqlQuery(select=\"Id,Date,Value\",tablename=\"table1\",where=\"Tag=3\")\n",
    "join2=NeuroData.SqlJoin(jointype=\"INNER\",subquery=query5,alias=\"t3\",clause=\"t1.Id=t3.Id and t1.Date=t3.Date\")\n",
    "query6=NeuroData.SqlQuery(select=\"t1.Id,t1.Date,t1.Value As Tag1,t2.Value As Tag2,t3.Value As Tag3\",subquery=query3,alias=\"t1\",joins=[join1,join2])\n",
    "#load into memory\n",
    "df3=NeuroData.sql2df(sqlquery=query6)"
   ]
  },
  {
   "cell_type": "markdown",
   "metadata": {},
   "source": [
    "## Query the csv\n",
    "This shows how to query the csv created by sql2csv and load the result into memory\n",
    "\n",
    "This example uses the [Query](http://www.david-anthoff.com/Query.jl/stable/) and [csv](http://juliadata.github.io/CSV.jl/stable/) packages. "
   ]
  },
  {
   "cell_type": "code",
   "execution_count": null,
   "metadata": {},
   "outputs": [],
   "source": [
    "Pkg.add(\"Query\")\n",
    "Pkg.add(\"CSV\")\n",
    "using Query\n",
    "using CSV"
   ]
  },
  {
   "cell_type": "code",
   "execution_count": null,
   "metadata": {},
   "outputs": [],
   "source": [
    "q = @from i in CSV.Source(\"query1.csv\",header=[\"Id\",\"Date\",\"Tag\",\"Value\"],datarow=2) begin\n",
    "    @where i.Tag == \"1\" || i.Tag==\"2\"\n",
    "    @select i\n",
    "    @collect DataFrame\n",
    "end\n",
    "\n",
    "head(q)"
   ]
  }
 ],
 "metadata": {
  "kernelspec": {
   "display_name": "Julia 0.5.2",
   "language": "julia",
   "name": "julia-0.5"
  },
  "language_info": {
   "file_extension": ".jl",
   "mimetype": "application/julia",
   "name": "julia",
   "version": "0.5.2"
  }
 },
 "nbformat": 4,
 "nbformat_minor": 2
}
