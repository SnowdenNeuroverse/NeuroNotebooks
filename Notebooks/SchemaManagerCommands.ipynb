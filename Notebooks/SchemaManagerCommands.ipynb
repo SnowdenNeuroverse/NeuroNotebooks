{
 "cells": [
  {
   "cell_type": "code",
   "execution_count": 1,
   "metadata": {},
   "outputs": [
    {
     "name": "stderr",
     "output_type": "stream",
     "text": [
      "WARNING: Method definition describe(AbstractArray) in module StatsBase at /opt/julia/v0.5/StatsBase/src/scalarstats.jl:560 overwritten in module DataFrames at /opt/julia/v0.5/DataFrames/src/abstractdataframe/abstractdataframe.jl:407.\n"
     ]
    }
   ],
   "source": [
    "using NeuroJulia"
   ]
  },
  {
   "cell_type": "code",
   "execution_count": 3,
   "metadata": {},
   "outputs": [
    {
     "data": {
      "text/plain": [
       "Dict{String,Any} with 3 entries:\n",
       "  \"DestinationTableDefinitionId\" => \"d87390d9-eb60-42f3-8857-7cce6e5a8113\"\n",
       "  \"Error\"                        => nothing\n",
       "  \"ErrorCode\"                    => 0"
      ]
     },
     "execution_count": 3,
     "metadata": {},
     "output_type": "execute_result"
    }
   ],
   "source": [
    "columns=NeuroData.DestinationTableDefinitionColumn[\n",
    "    NeuroData.DestinationTableDefinitionColumn(;ColumnName=\"Id\",ColumnDataType=\"Int\",ColumnType=\"Key\",IsRequired=true),\n",
    "    NeuroData.DestinationTableDefinitionColumn(;ColumnName=\"Code\",ColumnDataType=\"String(50)\",ColumnType=\"Value\",IsRequired=true),\n",
    "    NeuroData.DestinationTableDefinitionColumn(;ColumnName=\"Name\",ColumnDataType=\"String(200)\",ColumnType=\"Value\",IsRequired=false)\n",
    "]\n",
    "\n",
    "table_def=NeuroData.DestinationTableDefinition(;AllowDataLossChanges=false,DestinationTableDefinitionColumns=columns,\n",
    "        DestinationTableName=\"PhillTest5\")\n",
    "\n",
    "NeuroData.CreateDestinationTableDefinition(table_def)"
   ]
  },
  {
   "cell_type": "code",
   "execution_count": null,
   "metadata": {},
   "outputs": [],
   "source": []
  }
 ],
 "metadata": {
  "kernelspec": {
   "display_name": "Julia 0.5.2",
   "language": "julia",
   "name": "julia-0.5"
  },
  "language_info": {
   "file_extension": ".jl",
   "mimetype": "application/julia",
   "name": "julia",
   "version": "0.5.2"
  }
 },
 "nbformat": 4,
 "nbformat_minor": 2
}
